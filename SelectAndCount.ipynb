{
 "cells": [
  {
   "cell_type": "code",
   "execution_count": 15,
   "metadata": {
    "collapsed": true
   },
   "outputs": [],
   "source": [
    "import pandas as pd\n",
    "import numpy as np"
   ]
  },
  {
   "cell_type": "markdown",
   "metadata": {},
   "source": [
    "## 基本的Index方式\n",
    "\n",
    "Pandas目前有3种不同的Multi Axis 索引方式\n",
    "1. .loc 索引\n",
    "2. .iloc 索引 \n",
    "3. [] 索引, A.K.A __get_item__() 索引\n",
    "\n",
    "### .loc 索引\n",
    "使用Multi Axis索引从一个Object中取出值, 使用如下方式 (.iloc相同).\n",
    "\n",
    "    Object Type     Indexers\n",
    "\n",
    "    Series\t        s.loc[indexer]\n",
    "\n",
    "    DataFrame\t    df.loc[row_indexer,column_indexer]\n",
    "\n",
    "    Panel\t        p.loc[item_indexer,major_indexer,minor_indexer]\n",
    "\n",
    "\n",
    "在以上的notation中, 任何一个axis accessors都可以是 null slice `:`, 如果没有明确某个 axis的slice,就会被认为是 `:`. 比如\n",
    "    df.loc['a']\n",
    "等价于\n",
    "    df.loc['a', :]\n"
   ]
  },
  {
   "cell_type": "code",
   "execution_count": 2,
   "metadata": {
    "collapsed": true
   },
   "outputs": [],
   "source": [
    "# .loc 索引\n",
    "dates = pd.date_range('1/1/2000', periods=8)\n",
    "df = pd.DataFrame(np.random.randn(8,4), index=dates, columns=['A','B','C','D'])"
   ]
  },
  {
   "cell_type": "code",
   "execution_count": 16,
   "metadata": {
    "collapsed": false
   },
   "outputs": [
    {
     "data": {
      "text/html": [
       "<div>\n",
       "<style scoped>\n",
       "    .dataframe tbody tr th:only-of-type {\n",
       "        vertical-align: middle;\n",
       "    }\n",
       "\n",
       "    .dataframe tbody tr th {\n",
       "        vertical-align: top;\n",
       "    }\n",
       "\n",
       "    .dataframe thead th {\n",
       "        text-align: right;\n",
       "    }\n",
       "</style>\n",
       "<table border=\"1\" class=\"dataframe\">\n",
       "  <thead>\n",
       "    <tr style=\"text-align: right;\">\n",
       "      <th></th>\n",
       "      <th>A</th>\n",
       "      <th>B</th>\n",
       "      <th>C</th>\n",
       "    </tr>\n",
       "  </thead>\n",
       "  <tbody>\n",
       "    <tr>\n",
       "      <th>2000-01-01</th>\n",
       "      <td>1.002840</td>\n",
       "      <td>0.825416</td>\n",
       "      <td>0.802604</td>\n",
       "    </tr>\n",
       "    <tr>\n",
       "      <th>2000-01-02</th>\n",
       "      <td>1.339418</td>\n",
       "      <td>0.077498</td>\n",
       "      <td>0.028375</td>\n",
       "    </tr>\n",
       "    <tr>\n",
       "      <th>2000-01-03</th>\n",
       "      <td>0.934340</td>\n",
       "      <td>0.061355</td>\n",
       "      <td>0.387311</td>\n",
       "    </tr>\n",
       "    <tr>\n",
       "      <th>2000-01-04</th>\n",
       "      <td>-1.350004</td>\n",
       "      <td>-0.708657</td>\n",
       "      <td>0.031153</td>\n",
       "    </tr>\n",
       "    <tr>\n",
       "      <th>2000-01-05</th>\n",
       "      <td>0.579421</td>\n",
       "      <td>-0.500846</td>\n",
       "      <td>0.253089</td>\n",
       "    </tr>\n",
       "    <tr>\n",
       "      <th>2000-01-06</th>\n",
       "      <td>-0.094316</td>\n",
       "      <td>-1.664299</td>\n",
       "      <td>0.614044</td>\n",
       "    </tr>\n",
       "    <tr>\n",
       "      <th>2000-01-07</th>\n",
       "      <td>-1.327806</td>\n",
       "      <td>-0.400085</td>\n",
       "      <td>0.011575</td>\n",
       "    </tr>\n",
       "    <tr>\n",
       "      <th>2000-01-08</th>\n",
       "      <td>-0.136517</td>\n",
       "      <td>-1.441112</td>\n",
       "      <td>-0.107744</td>\n",
       "    </tr>\n",
       "  </tbody>\n",
       "</table>\n",
       "</div>"
      ],
      "text/plain": [
       "                   A         B         C\n",
       "2000-01-01  1.002840  0.825416  0.802604\n",
       "2000-01-02  1.339418  0.077498  0.028375\n",
       "2000-01-03  0.934340  0.061355  0.387311\n",
       "2000-01-04 -1.350004 -0.708657  0.031153\n",
       "2000-01-05  0.579421 -0.500846  0.253089\n",
       "2000-01-06 -0.094316 -1.664299  0.614044\n",
       "2000-01-07 -1.327806 -0.400085  0.011575\n",
       "2000-01-08 -0.136517 -1.441112 -0.107744"
      ]
     },
     "execution_count": 16,
     "metadata": {},
     "output_type": "execute_result"
    }
   ],
   "source": [
    "df.loc[:,'A':'C']"
   ]
  },
  {
   "cell_type": "markdown",
   "metadata": {},
   "source": [
    "从以上的索引代码\n",
    "    df.loc[:, 'A':'C']\n",
    "可以看出, Pandas的 slice是包含了开始和结束的元素的. 这点和Python, Numpy的Slice不同"
   ]
  },
  {
   "cell_type": "markdown",
   "metadata": {},
   "source": [
    "### [] index\n",
    "[] index的首要功能, 是选择出低维度(lower-dimensional)的slice. 当使用 `[]` 去索引pandas Object时, 会有如下返回值\n",
    "\n",
    "    Object Type\t    Selection\t        Return Value Type\n",
    "    Series\t        series[label]\t    scalar value\n",
    "    DataFrame\t    frame[colname]\t    Series corresponding to colname\n",
    "    Panel\t        panel[itemname]\t    DataFrame corresponding to the itemname\n"
   ]
  },
  {
   "cell_type": "markdown",
   "metadata": {},
   "source": [
    "1. 将一个col name传入 [] 索引"
   ]
  },
  {
   "cell_type": "code",
   "execution_count": 32,
   "metadata": {
    "collapsed": false
   },
   "outputs": [
    {
     "data": {
      "text/plain": [
       "2000-01-01    1.002840\n",
       "2000-01-02    1.339418\n",
       "2000-01-03    0.934340\n",
       "2000-01-04   -1.350004\n",
       "2000-01-05    0.579421\n",
       "2000-01-06   -0.094316\n",
       "2000-01-07   -1.327806\n",
       "2000-01-08   -0.136517\n",
       "Freq: D, Name: A, dtype: float64"
      ]
     },
     "execution_count": 32,
     "metadata": {},
     "output_type": "execute_result"
    }
   ],
   "source": [
    "df['A']"
   ]
  },
  {
   "cell_type": "markdown",
   "metadata": {},
   "source": [
    "2. 将一个col list传入 [] 索引"
   ]
  },
  {
   "cell_type": "code",
   "execution_count": 33,
   "metadata": {
    "collapsed": false
   },
   "outputs": [
    {
     "data": {
      "text/html": [
       "<div>\n",
       "<style scoped>\n",
       "    .dataframe tbody tr th:only-of-type {\n",
       "        vertical-align: middle;\n",
       "    }\n",
       "\n",
       "    .dataframe tbody tr th {\n",
       "        vertical-align: top;\n",
       "    }\n",
       "\n",
       "    .dataframe thead th {\n",
       "        text-align: right;\n",
       "    }\n",
       "</style>\n",
       "<table border=\"1\" class=\"dataframe\">\n",
       "  <thead>\n",
       "    <tr style=\"text-align: right;\">\n",
       "      <th></th>\n",
       "      <th>A</th>\n",
       "      <th>B</th>\n",
       "      <th>C</th>\n",
       "    </tr>\n",
       "  </thead>\n",
       "  <tbody>\n",
       "    <tr>\n",
       "      <th>2000-01-01</th>\n",
       "      <td>1.002840</td>\n",
       "      <td>0.825416</td>\n",
       "      <td>0.802604</td>\n",
       "    </tr>\n",
       "    <tr>\n",
       "      <th>2000-01-02</th>\n",
       "      <td>1.339418</td>\n",
       "      <td>0.077498</td>\n",
       "      <td>0.028375</td>\n",
       "    </tr>\n",
       "    <tr>\n",
       "      <th>2000-01-03</th>\n",
       "      <td>0.934340</td>\n",
       "      <td>0.061355</td>\n",
       "      <td>0.387311</td>\n",
       "    </tr>\n",
       "    <tr>\n",
       "      <th>2000-01-04</th>\n",
       "      <td>-1.350004</td>\n",
       "      <td>-0.708657</td>\n",
       "      <td>0.031153</td>\n",
       "    </tr>\n",
       "    <tr>\n",
       "      <th>2000-01-05</th>\n",
       "      <td>0.579421</td>\n",
       "      <td>-0.500846</td>\n",
       "      <td>0.253089</td>\n",
       "    </tr>\n",
       "    <tr>\n",
       "      <th>2000-01-06</th>\n",
       "      <td>-0.094316</td>\n",
       "      <td>-1.664299</td>\n",
       "      <td>0.614044</td>\n",
       "    </tr>\n",
       "    <tr>\n",
       "      <th>2000-01-07</th>\n",
       "      <td>-1.327806</td>\n",
       "      <td>-0.400085</td>\n",
       "      <td>0.011575</td>\n",
       "    </tr>\n",
       "    <tr>\n",
       "      <th>2000-01-08</th>\n",
       "      <td>-0.136517</td>\n",
       "      <td>-1.441112</td>\n",
       "      <td>-0.107744</td>\n",
       "    </tr>\n",
       "  </tbody>\n",
       "</table>\n",
       "</div>"
      ],
      "text/plain": [
       "                   A         B         C\n",
       "2000-01-01  1.002840  0.825416  0.802604\n",
       "2000-01-02  1.339418  0.077498  0.028375\n",
       "2000-01-03  0.934340  0.061355  0.387311\n",
       "2000-01-04 -1.350004 -0.708657  0.031153\n",
       "2000-01-05  0.579421 -0.500846  0.253089\n",
       "2000-01-06 -0.094316 -1.664299  0.614044\n",
       "2000-01-07 -1.327806 -0.400085  0.011575\n",
       "2000-01-08 -0.136517 -1.441112 -0.107744"
      ]
     },
     "execution_count": 33,
     "metadata": {},
     "output_type": "execute_result"
    }
   ],
   "source": [
    "df[['A','B','C']]"
   ]
  },
  {
   "cell_type": "code",
   "execution_count": 34,
   "metadata": {
    "collapsed": true
   },
   "outputs": [],
   "source": [
    "df[['B','A']] = df[['A','B']]"
   ]
  },
  {
   "cell_type": "code",
   "execution_count": 35,
   "metadata": {
    "collapsed": false
   },
   "outputs": [
    {
     "data": {
      "text/html": [
       "<div>\n",
       "<style scoped>\n",
       "    .dataframe tbody tr th:only-of-type {\n",
       "        vertical-align: middle;\n",
       "    }\n",
       "\n",
       "    .dataframe tbody tr th {\n",
       "        vertical-align: top;\n",
       "    }\n",
       "\n",
       "    .dataframe thead th {\n",
       "        text-align: right;\n",
       "    }\n",
       "</style>\n",
       "<table border=\"1\" class=\"dataframe\">\n",
       "  <thead>\n",
       "    <tr style=\"text-align: right;\">\n",
       "      <th></th>\n",
       "      <th>A</th>\n",
       "      <th>B</th>\n",
       "      <th>C</th>\n",
       "      <th>D</th>\n",
       "    </tr>\n",
       "  </thead>\n",
       "  <tbody>\n",
       "    <tr>\n",
       "      <th>2000-01-01</th>\n",
       "      <td>0.825416</td>\n",
       "      <td>1.002840</td>\n",
       "      <td>0.802604</td>\n",
       "      <td>-0.854329</td>\n",
       "    </tr>\n",
       "    <tr>\n",
       "      <th>2000-01-02</th>\n",
       "      <td>0.077498</td>\n",
       "      <td>1.339418</td>\n",
       "      <td>0.028375</td>\n",
       "      <td>1.983802</td>\n",
       "    </tr>\n",
       "    <tr>\n",
       "      <th>2000-01-03</th>\n",
       "      <td>0.061355</td>\n",
       "      <td>0.934340</td>\n",
       "      <td>0.387311</td>\n",
       "      <td>1.237508</td>\n",
       "    </tr>\n",
       "    <tr>\n",
       "      <th>2000-01-04</th>\n",
       "      <td>-0.708657</td>\n",
       "      <td>-1.350004</td>\n",
       "      <td>0.031153</td>\n",
       "      <td>-0.784259</td>\n",
       "    </tr>\n",
       "    <tr>\n",
       "      <th>2000-01-05</th>\n",
       "      <td>-0.500846</td>\n",
       "      <td>0.579421</td>\n",
       "      <td>0.253089</td>\n",
       "      <td>0.209503</td>\n",
       "    </tr>\n",
       "    <tr>\n",
       "      <th>2000-01-06</th>\n",
       "      <td>-1.664299</td>\n",
       "      <td>-0.094316</td>\n",
       "      <td>0.614044</td>\n",
       "      <td>0.733716</td>\n",
       "    </tr>\n",
       "    <tr>\n",
       "      <th>2000-01-07</th>\n",
       "      <td>-0.400085</td>\n",
       "      <td>-1.327806</td>\n",
       "      <td>0.011575</td>\n",
       "      <td>0.753482</td>\n",
       "    </tr>\n",
       "    <tr>\n",
       "      <th>2000-01-08</th>\n",
       "      <td>-1.441112</td>\n",
       "      <td>-0.136517</td>\n",
       "      <td>-0.107744</td>\n",
       "      <td>-1.205936</td>\n",
       "    </tr>\n",
       "  </tbody>\n",
       "</table>\n",
       "</div>"
      ],
      "text/plain": [
       "                   A         B         C         D\n",
       "2000-01-01  0.825416  1.002840  0.802604 -0.854329\n",
       "2000-01-02  0.077498  1.339418  0.028375  1.983802\n",
       "2000-01-03  0.061355  0.934340  0.387311  1.237508\n",
       "2000-01-04 -0.708657 -1.350004  0.031153 -0.784259\n",
       "2000-01-05 -0.500846  0.579421  0.253089  0.209503\n",
       "2000-01-06 -1.664299 -0.094316  0.614044  0.733716\n",
       "2000-01-07 -0.400085 -1.327806  0.011575  0.753482\n",
       "2000-01-08 -1.441112 -0.136517 -0.107744 -1.205936"
      ]
     },
     "execution_count": 35,
     "metadata": {},
     "output_type": "execute_result"
    }
   ],
   "source": [
    "df"
   ]
  },
  {
   "cell_type": "markdown",
   "metadata": {},
   "source": [
    "使用\n",
    "\n",
    "    df[['A','B']] = df[['B','A']]\n",
    "    \n",
    "可以很方便地用于in place transform for a subset of the columns.\n",
    "\n",
    "该语句等价于:\n",
    "\n",
    "    df.__set_item__(['A','B'], df.__get_item__(['B','A']))"
   ]
  },
  {
   "cell_type": "markdown",
   "metadata": {},
   "source": [
    "需要注意的是,\n",
    "    \n",
    "    df.loc[:, ['B', 'A']] = df[['A','B']]\n",
    "\n",
    "不能将 `A` 与 `B` 互换. 因为使用 `.loc` 索引时, Pandas会 `align all AXES`, 我对这个表述的理解是, Pandas会自动对齐各Label以及各Index. 如果要使用 `.loc` 索引将两个col的值互换, 应该使用以下方法:\n",
    "\n",
    "    df.loc[:, ['B', 'A']] = df[['A', 'B']].values\n",
    "    \n",
    "其中, `values` 的作用是 \n",
    "\n",
    "> Return a Numpy representation of the DataFrame.Only the values in the DataFrame will be returned, the axes labels will be removed\n",
    "\n",
    "使用这种方式, 可以在取出 A,B两列后, 去除Label信息. 使用 .loc 赋值时, 就不会发生 align AXES的情况.\n",
    "\n",
    "具体见以下代码:"
   ]
  },
  {
   "cell_type": "code",
   "execution_count": 44,
   "metadata": {
    "collapsed": false
   },
   "outputs": [
    {
     "data": {
      "text/html": [
       "<div>\n",
       "<style scoped>\n",
       "    .dataframe tbody tr th:only-of-type {\n",
       "        vertical-align: middle;\n",
       "    }\n",
       "\n",
       "    .dataframe tbody tr th {\n",
       "        vertical-align: top;\n",
       "    }\n",
       "\n",
       "    .dataframe thead th {\n",
       "        text-align: right;\n",
       "    }\n",
       "</style>\n",
       "<table border=\"1\" class=\"dataframe\">\n",
       "  <thead>\n",
       "    <tr style=\"text-align: right;\">\n",
       "      <th></th>\n",
       "      <th>A</th>\n",
       "      <th>B</th>\n",
       "      <th>C</th>\n",
       "      <th>D</th>\n",
       "    </tr>\n",
       "  </thead>\n",
       "  <tbody>\n",
       "    <tr>\n",
       "      <th>2000-01-01</th>\n",
       "      <td>-1.100159</td>\n",
       "      <td>1.002840</td>\n",
       "      <td>0.802604</td>\n",
       "      <td>-0.854329</td>\n",
       "    </tr>\n",
       "    <tr>\n",
       "      <th>2000-01-02</th>\n",
       "      <td>-0.097406</td>\n",
       "      <td>1.339418</td>\n",
       "      <td>0.028375</td>\n",
       "      <td>1.983802</td>\n",
       "    </tr>\n",
       "    <tr>\n",
       "      <th>2000-01-03</th>\n",
       "      <td>1.755941</td>\n",
       "      <td>0.934340</td>\n",
       "      <td>0.387311</td>\n",
       "      <td>1.237508</td>\n",
       "    </tr>\n",
       "    <tr>\n",
       "      <th>2000-01-04</th>\n",
       "      <td>-2.081861</td>\n",
       "      <td>-1.350004</td>\n",
       "      <td>0.031153</td>\n",
       "      <td>-0.784259</td>\n",
       "    </tr>\n",
       "    <tr>\n",
       "      <th>2000-01-05</th>\n",
       "      <td>1.205675</td>\n",
       "      <td>0.579421</td>\n",
       "      <td>0.253089</td>\n",
       "      <td>0.209503</td>\n",
       "    </tr>\n",
       "    <tr>\n",
       "      <th>2000-01-06</th>\n",
       "      <td>2.225229</td>\n",
       "      <td>-0.094316</td>\n",
       "      <td>0.614044</td>\n",
       "      <td>0.733716</td>\n",
       "    </tr>\n",
       "    <tr>\n",
       "      <th>2000-01-07</th>\n",
       "      <td>1.355005</td>\n",
       "      <td>-1.327806</td>\n",
       "      <td>0.011575</td>\n",
       "      <td>0.753482</td>\n",
       "    </tr>\n",
       "    <tr>\n",
       "      <th>2000-01-08</th>\n",
       "      <td>1.292235</td>\n",
       "      <td>-0.136517</td>\n",
       "      <td>-0.107744</td>\n",
       "      <td>-1.205936</td>\n",
       "    </tr>\n",
       "  </tbody>\n",
       "</table>\n",
       "</div>"
      ],
      "text/plain": [
       "                   A         B         C         D\n",
       "2000-01-01 -1.100159  1.002840  0.802604 -0.854329\n",
       "2000-01-02 -0.097406  1.339418  0.028375  1.983802\n",
       "2000-01-03  1.755941  0.934340  0.387311  1.237508\n",
       "2000-01-04 -2.081861 -1.350004  0.031153 -0.784259\n",
       "2000-01-05  1.205675  0.579421  0.253089  0.209503\n",
       "2000-01-06  2.225229 -0.094316  0.614044  0.733716\n",
       "2000-01-07  1.355005 -1.327806  0.011575  0.753482\n",
       "2000-01-08  1.292235 -0.136517 -0.107744 -1.205936"
      ]
     },
     "execution_count": 44,
     "metadata": {},
     "output_type": "execute_result"
    }
   ],
   "source": [
    "df"
   ]
  },
  {
   "cell_type": "code",
   "execution_count": 45,
   "metadata": {
    "collapsed": false
   },
   "outputs": [
    {
     "data": {
      "text/html": [
       "<div>\n",
       "<style scoped>\n",
       "    .dataframe tbody tr th:only-of-type {\n",
       "        vertical-align: middle;\n",
       "    }\n",
       "\n",
       "    .dataframe tbody tr th {\n",
       "        vertical-align: top;\n",
       "    }\n",
       "\n",
       "    .dataframe thead th {\n",
       "        text-align: right;\n",
       "    }\n",
       "</style>\n",
       "<table border=\"1\" class=\"dataframe\">\n",
       "  <thead>\n",
       "    <tr style=\"text-align: right;\">\n",
       "      <th></th>\n",
       "      <th>A</th>\n",
       "      <th>B</th>\n",
       "      <th>C</th>\n",
       "      <th>D</th>\n",
       "    </tr>\n",
       "  </thead>\n",
       "  <tbody>\n",
       "    <tr>\n",
       "      <th>2000-01-01</th>\n",
       "      <td>-1.100159</td>\n",
       "      <td>1.002840</td>\n",
       "      <td>0.802604</td>\n",
       "      <td>-0.854329</td>\n",
       "    </tr>\n",
       "    <tr>\n",
       "      <th>2000-01-02</th>\n",
       "      <td>-0.097406</td>\n",
       "      <td>1.339418</td>\n",
       "      <td>0.028375</td>\n",
       "      <td>1.983802</td>\n",
       "    </tr>\n",
       "    <tr>\n",
       "      <th>2000-01-03</th>\n",
       "      <td>1.755941</td>\n",
       "      <td>0.934340</td>\n",
       "      <td>0.387311</td>\n",
       "      <td>1.237508</td>\n",
       "    </tr>\n",
       "    <tr>\n",
       "      <th>2000-01-04</th>\n",
       "      <td>-2.081861</td>\n",
       "      <td>-1.350004</td>\n",
       "      <td>0.031153</td>\n",
       "      <td>-0.784259</td>\n",
       "    </tr>\n",
       "    <tr>\n",
       "      <th>2000-01-05</th>\n",
       "      <td>1.205675</td>\n",
       "      <td>0.579421</td>\n",
       "      <td>0.253089</td>\n",
       "      <td>0.209503</td>\n",
       "    </tr>\n",
       "    <tr>\n",
       "      <th>2000-01-06</th>\n",
       "      <td>2.225229</td>\n",
       "      <td>-0.094316</td>\n",
       "      <td>0.614044</td>\n",
       "      <td>0.733716</td>\n",
       "    </tr>\n",
       "    <tr>\n",
       "      <th>2000-01-07</th>\n",
       "      <td>1.355005</td>\n",
       "      <td>-1.327806</td>\n",
       "      <td>0.011575</td>\n",
       "      <td>0.753482</td>\n",
       "    </tr>\n",
       "    <tr>\n",
       "      <th>2000-01-08</th>\n",
       "      <td>1.292235</td>\n",
       "      <td>-0.136517</td>\n",
       "      <td>-0.107744</td>\n",
       "      <td>-1.205936</td>\n",
       "    </tr>\n",
       "  </tbody>\n",
       "</table>\n",
       "</div>"
      ],
      "text/plain": [
       "                   A         B         C         D\n",
       "2000-01-01 -1.100159  1.002840  0.802604 -0.854329\n",
       "2000-01-02 -0.097406  1.339418  0.028375  1.983802\n",
       "2000-01-03  1.755941  0.934340  0.387311  1.237508\n",
       "2000-01-04 -2.081861 -1.350004  0.031153 -0.784259\n",
       "2000-01-05  1.205675  0.579421  0.253089  0.209503\n",
       "2000-01-06  2.225229 -0.094316  0.614044  0.733716\n",
       "2000-01-07  1.355005 -1.327806  0.011575  0.753482\n",
       "2000-01-08  1.292235 -0.136517 -0.107744 -1.205936"
      ]
     },
     "execution_count": 45,
     "metadata": {},
     "output_type": "execute_result"
    }
   ],
   "source": [
    "df.loc[:, ['B', 'A']] = df[['A', 'B']]\n",
    "df"
   ]
  },
  {
   "cell_type": "code",
   "execution_count": 46,
   "metadata": {
    "collapsed": false,
    "scrolled": true
   },
   "outputs": [
    {
     "data": {
      "text/html": [
       "<div>\n",
       "<style scoped>\n",
       "    .dataframe tbody tr th:only-of-type {\n",
       "        vertical-align: middle;\n",
       "    }\n",
       "\n",
       "    .dataframe tbody tr th {\n",
       "        vertical-align: top;\n",
       "    }\n",
       "\n",
       "    .dataframe thead th {\n",
       "        text-align: right;\n",
       "    }\n",
       "</style>\n",
       "<table border=\"1\" class=\"dataframe\">\n",
       "  <thead>\n",
       "    <tr style=\"text-align: right;\">\n",
       "      <th></th>\n",
       "      <th>A</th>\n",
       "      <th>B</th>\n",
       "      <th>C</th>\n",
       "      <th>D</th>\n",
       "    </tr>\n",
       "  </thead>\n",
       "  <tbody>\n",
       "    <tr>\n",
       "      <th>2000-01-01</th>\n",
       "      <td>1.002840</td>\n",
       "      <td>-1.100159</td>\n",
       "      <td>0.802604</td>\n",
       "      <td>-0.854329</td>\n",
       "    </tr>\n",
       "    <tr>\n",
       "      <th>2000-01-02</th>\n",
       "      <td>1.339418</td>\n",
       "      <td>-0.097406</td>\n",
       "      <td>0.028375</td>\n",
       "      <td>1.983802</td>\n",
       "    </tr>\n",
       "    <tr>\n",
       "      <th>2000-01-03</th>\n",
       "      <td>0.934340</td>\n",
       "      <td>1.755941</td>\n",
       "      <td>0.387311</td>\n",
       "      <td>1.237508</td>\n",
       "    </tr>\n",
       "    <tr>\n",
       "      <th>2000-01-04</th>\n",
       "      <td>-1.350004</td>\n",
       "      <td>-2.081861</td>\n",
       "      <td>0.031153</td>\n",
       "      <td>-0.784259</td>\n",
       "    </tr>\n",
       "    <tr>\n",
       "      <th>2000-01-05</th>\n",
       "      <td>0.579421</td>\n",
       "      <td>1.205675</td>\n",
       "      <td>0.253089</td>\n",
       "      <td>0.209503</td>\n",
       "    </tr>\n",
       "    <tr>\n",
       "      <th>2000-01-06</th>\n",
       "      <td>-0.094316</td>\n",
       "      <td>2.225229</td>\n",
       "      <td>0.614044</td>\n",
       "      <td>0.733716</td>\n",
       "    </tr>\n",
       "    <tr>\n",
       "      <th>2000-01-07</th>\n",
       "      <td>-1.327806</td>\n",
       "      <td>1.355005</td>\n",
       "      <td>0.011575</td>\n",
       "      <td>0.753482</td>\n",
       "    </tr>\n",
       "    <tr>\n",
       "      <th>2000-01-08</th>\n",
       "      <td>-0.136517</td>\n",
       "      <td>1.292235</td>\n",
       "      <td>-0.107744</td>\n",
       "      <td>-1.205936</td>\n",
       "    </tr>\n",
       "  </tbody>\n",
       "</table>\n",
       "</div>"
      ],
      "text/plain": [
       "                   A         B         C         D\n",
       "2000-01-01  1.002840 -1.100159  0.802604 -0.854329\n",
       "2000-01-02  1.339418 -0.097406  0.028375  1.983802\n",
       "2000-01-03  0.934340  1.755941  0.387311  1.237508\n",
       "2000-01-04 -1.350004 -2.081861  0.031153 -0.784259\n",
       "2000-01-05  0.579421  1.205675  0.253089  0.209503\n",
       "2000-01-06 -0.094316  2.225229  0.614044  0.733716\n",
       "2000-01-07 -1.327806  1.355005  0.011575  0.753482\n",
       "2000-01-08 -0.136517  1.292235 -0.107744 -1.205936"
      ]
     },
     "execution_count": 46,
     "metadata": {},
     "output_type": "execute_result"
    }
   ],
   "source": [
    "df.loc[:, ['B', 'A']] = df[['A', 'B']].values\n",
    "df"
   ]
  },
  {
   "cell_type": "markdown",
   "metadata": {},
   "source": [
    "### 额外的低频使用的Index方式: Attribute Index\n",
    "\n",
    "我们也可以用Attribute Index的方式(`.attr_name`).\n",
    "  Object Type     Selection Result\n",
    "  Series          index\n",
    "  Dataframe       column\n",
    "  Panel           dataframe"
   ]
  },
  {
   "cell_type": "code",
   "execution_count": 50,
   "metadata": {
    "collapsed": false
   },
   "outputs": [
    {
     "data": {
      "text/plain": [
       "1"
      ]
     },
     "execution_count": 50,
     "metadata": {},
     "output_type": "execute_result"
    }
   ],
   "source": [
    "# Series Attribute Index\n",
    "sa = pd.Series([1,2,3], index = list(\"abc\"))\n",
    "sa.a"
   ]
  },
  {
   "cell_type": "code",
   "execution_count": 53,
   "metadata": {
    "collapsed": false
   },
   "outputs": [
    {
     "data": {
      "text/html": [
       "<div>\n",
       "<style scoped>\n",
       "    .dataframe tbody tr th:only-of-type {\n",
       "        vertical-align: middle;\n",
       "    }\n",
       "\n",
       "    .dataframe tbody tr th {\n",
       "        vertical-align: top;\n",
       "    }\n",
       "\n",
       "    .dataframe thead th {\n",
       "        text-align: right;\n",
       "    }\n",
       "</style>\n",
       "<table border=\"1\" class=\"dataframe\">\n",
       "  <thead>\n",
       "    <tr style=\"text-align: right;\">\n",
       "      <th></th>\n",
       "      <th>A</th>\n",
       "      <th>B</th>\n",
       "      <th>C</th>\n",
       "      <th>D</th>\n",
       "    </tr>\n",
       "  </thead>\n",
       "  <tbody>\n",
       "    <tr>\n",
       "      <th>2000-01-01</th>\n",
       "      <td>1.002840</td>\n",
       "      <td>-1.100159</td>\n",
       "      <td>0.802604</td>\n",
       "      <td>-0.854329</td>\n",
       "    </tr>\n",
       "    <tr>\n",
       "      <th>2000-01-02</th>\n",
       "      <td>1.339418</td>\n",
       "      <td>-0.097406</td>\n",
       "      <td>0.028375</td>\n",
       "      <td>1.983802</td>\n",
       "    </tr>\n",
       "    <tr>\n",
       "      <th>2000-01-03</th>\n",
       "      <td>0.934340</td>\n",
       "      <td>1.755941</td>\n",
       "      <td>0.387311</td>\n",
       "      <td>1.237508</td>\n",
       "    </tr>\n",
       "    <tr>\n",
       "      <th>2000-01-04</th>\n",
       "      <td>-1.350004</td>\n",
       "      <td>-2.081861</td>\n",
       "      <td>0.031153</td>\n",
       "      <td>-0.784259</td>\n",
       "    </tr>\n",
       "    <tr>\n",
       "      <th>2000-01-05</th>\n",
       "      <td>0.579421</td>\n",
       "      <td>1.205675</td>\n",
       "      <td>0.253089</td>\n",
       "      <td>0.209503</td>\n",
       "    </tr>\n",
       "    <tr>\n",
       "      <th>2000-01-06</th>\n",
       "      <td>-0.094316</td>\n",
       "      <td>2.225229</td>\n",
       "      <td>0.614044</td>\n",
       "      <td>0.733716</td>\n",
       "    </tr>\n",
       "    <tr>\n",
       "      <th>2000-01-07</th>\n",
       "      <td>-1.327806</td>\n",
       "      <td>1.355005</td>\n",
       "      <td>0.011575</td>\n",
       "      <td>0.753482</td>\n",
       "    </tr>\n",
       "    <tr>\n",
       "      <th>2000-01-08</th>\n",
       "      <td>-0.136517</td>\n",
       "      <td>1.292235</td>\n",
       "      <td>-0.107744</td>\n",
       "      <td>-1.205936</td>\n",
       "    </tr>\n",
       "  </tbody>\n",
       "</table>\n",
       "</div>"
      ],
      "text/plain": [
       "                   A         B         C         D\n",
       "2000-01-01  1.002840 -1.100159  0.802604 -0.854329\n",
       "2000-01-02  1.339418 -0.097406  0.028375  1.983802\n",
       "2000-01-03  0.934340  1.755941  0.387311  1.237508\n",
       "2000-01-04 -1.350004 -2.081861  0.031153 -0.784259\n",
       "2000-01-05  0.579421  1.205675  0.253089  0.209503\n",
       "2000-01-06 -0.094316  2.225229  0.614044  0.733716\n",
       "2000-01-07 -1.327806  1.355005  0.011575  0.753482\n",
       "2000-01-08 -0.136517  1.292235 -0.107744 -1.205936"
      ]
     },
     "execution_count": 53,
     "metadata": {},
     "output_type": "execute_result"
    }
   ],
   "source": [
    "#DataFrame Attribute Index\n",
    "dfa = df.copy()\n",
    "dfa"
   ]
  },
  {
   "cell_type": "code",
   "execution_count": 54,
   "metadata": {
    "collapsed": false,
    "scrolled": true
   },
   "outputs": [
    {
     "data": {
      "text/plain": [
       "2000-01-01    1.002840\n",
       "2000-01-02    1.339418\n",
       "2000-01-03    0.934340\n",
       "2000-01-04   -1.350004\n",
       "2000-01-05    0.579421\n",
       "2000-01-06   -0.094316\n",
       "2000-01-07   -1.327806\n",
       "2000-01-08   -0.136517\n",
       "Freq: D, Name: A, dtype: float64"
      ]
     },
     "execution_count": 54,
     "metadata": {},
     "output_type": "execute_result"
    }
   ],
   "source": [
    "dfa.A"
   ]
  },
  {
   "cell_type": "markdown",
   "metadata": {},
   "source": [
    "**当DataFrame中某一列已存在时, 可以使用Attribute Index为该列赋值.**"
   ]
  },
  {
   "cell_type": "code",
   "execution_count": 55,
   "metadata": {
    "collapsed": true
   },
   "outputs": [],
   "source": [
    "dfa.A = list(range(len(dfa.index)))"
   ]
  },
  {
   "cell_type": "code",
   "execution_count": 57,
   "metadata": {
    "collapsed": false,
    "scrolled": true
   },
   "outputs": [
    {
     "data": {
      "text/html": [
       "<div>\n",
       "<style scoped>\n",
       "    .dataframe tbody tr th:only-of-type {\n",
       "        vertical-align: middle;\n",
       "    }\n",
       "\n",
       "    .dataframe tbody tr th {\n",
       "        vertical-align: top;\n",
       "    }\n",
       "\n",
       "    .dataframe thead th {\n",
       "        text-align: right;\n",
       "    }\n",
       "</style>\n",
       "<table border=\"1\" class=\"dataframe\">\n",
       "  <thead>\n",
       "    <tr style=\"text-align: right;\">\n",
       "      <th></th>\n",
       "      <th>A</th>\n",
       "      <th>B</th>\n",
       "      <th>C</th>\n",
       "      <th>D</th>\n",
       "    </tr>\n",
       "  </thead>\n",
       "  <tbody>\n",
       "    <tr>\n",
       "      <th>2000-01-01</th>\n",
       "      <td>0</td>\n",
       "      <td>-1.100159</td>\n",
       "      <td>0.802604</td>\n",
       "      <td>-0.854329</td>\n",
       "    </tr>\n",
       "    <tr>\n",
       "      <th>2000-01-02</th>\n",
       "      <td>1</td>\n",
       "      <td>-0.097406</td>\n",
       "      <td>0.028375</td>\n",
       "      <td>1.983802</td>\n",
       "    </tr>\n",
       "    <tr>\n",
       "      <th>2000-01-03</th>\n",
       "      <td>2</td>\n",
       "      <td>1.755941</td>\n",
       "      <td>0.387311</td>\n",
       "      <td>1.237508</td>\n",
       "    </tr>\n",
       "    <tr>\n",
       "      <th>2000-01-04</th>\n",
       "      <td>3</td>\n",
       "      <td>-2.081861</td>\n",
       "      <td>0.031153</td>\n",
       "      <td>-0.784259</td>\n",
       "    </tr>\n",
       "    <tr>\n",
       "      <th>2000-01-05</th>\n",
       "      <td>4</td>\n",
       "      <td>1.205675</td>\n",
       "      <td>0.253089</td>\n",
       "      <td>0.209503</td>\n",
       "    </tr>\n",
       "    <tr>\n",
       "      <th>2000-01-06</th>\n",
       "      <td>5</td>\n",
       "      <td>2.225229</td>\n",
       "      <td>0.614044</td>\n",
       "      <td>0.733716</td>\n",
       "    </tr>\n",
       "    <tr>\n",
       "      <th>2000-01-07</th>\n",
       "      <td>6</td>\n",
       "      <td>1.355005</td>\n",
       "      <td>0.011575</td>\n",
       "      <td>0.753482</td>\n",
       "    </tr>\n",
       "    <tr>\n",
       "      <th>2000-01-08</th>\n",
       "      <td>7</td>\n",
       "      <td>1.292235</td>\n",
       "      <td>-0.107744</td>\n",
       "      <td>-1.205936</td>\n",
       "    </tr>\n",
       "  </tbody>\n",
       "</table>\n",
       "</div>"
      ],
      "text/plain": [
       "            A         B         C         D\n",
       "2000-01-01  0 -1.100159  0.802604 -0.854329\n",
       "2000-01-02  1 -0.097406  0.028375  1.983802\n",
       "2000-01-03  2  1.755941  0.387311  1.237508\n",
       "2000-01-04  3 -2.081861  0.031153 -0.784259\n",
       "2000-01-05  4  1.205675  0.253089  0.209503\n",
       "2000-01-06  5  2.225229  0.614044  0.733716\n",
       "2000-01-07  6  1.355005  0.011575  0.753482\n",
       "2000-01-08  7  1.292235 -0.107744 -1.205936"
      ]
     },
     "execution_count": 57,
     "metadata": {},
     "output_type": "execute_result"
    }
   ],
   "source": [
    "dfa"
   ]
  },
  {
   "cell_type": "markdown",
   "metadata": {},
   "source": [
    "** 当DataFrame中某一列存在时, 无法使用Attribute Index 去获取该列, 也不能使用Attribute Index去创建新列. **\n",
    "\n",
    "当尝试使用Attribute Index创建一个新列时, 事实上没有创建列, 而是真的为该对象添加了一个新的属性...\n",
    " \n",
    "而应该使用 `[]` Index 或者 `.loc` Index 去创建."
   ]
  },
  {
   "cell_type": "code",
   "execution_count": 72,
   "metadata": {
    "collapsed": false
   },
   "outputs": [
    {
     "data": {
      "text/html": [
       "<div>\n",
       "<style scoped>\n",
       "    .dataframe tbody tr th:only-of-type {\n",
       "        vertical-align: middle;\n",
       "    }\n",
       "\n",
       "    .dataframe tbody tr th {\n",
       "        vertical-align: top;\n",
       "    }\n",
       "\n",
       "    .dataframe thead th {\n",
       "        text-align: right;\n",
       "    }\n",
       "</style>\n",
       "<table border=\"1\" class=\"dataframe\">\n",
       "  <thead>\n",
       "    <tr style=\"text-align: right;\">\n",
       "      <th></th>\n",
       "      <th>B</th>\n",
       "      <th>C</th>\n",
       "      <th>D</th>\n",
       "    </tr>\n",
       "  </thead>\n",
       "  <tbody>\n",
       "    <tr>\n",
       "      <th>2000-01-01</th>\n",
       "      <td>-1.100159</td>\n",
       "      <td>0.802604</td>\n",
       "      <td>-0.854329</td>\n",
       "    </tr>\n",
       "    <tr>\n",
       "      <th>2000-01-02</th>\n",
       "      <td>-0.097406</td>\n",
       "      <td>0.028375</td>\n",
       "      <td>1.983802</td>\n",
       "    </tr>\n",
       "    <tr>\n",
       "      <th>2000-01-03</th>\n",
       "      <td>1.755941</td>\n",
       "      <td>0.387311</td>\n",
       "      <td>1.237508</td>\n",
       "    </tr>\n",
       "    <tr>\n",
       "      <th>2000-01-04</th>\n",
       "      <td>-2.081861</td>\n",
       "      <td>0.031153</td>\n",
       "      <td>-0.784259</td>\n",
       "    </tr>\n",
       "    <tr>\n",
       "      <th>2000-01-05</th>\n",
       "      <td>1.205675</td>\n",
       "      <td>0.253089</td>\n",
       "      <td>0.209503</td>\n",
       "    </tr>\n",
       "    <tr>\n",
       "      <th>2000-01-06</th>\n",
       "      <td>2.225229</td>\n",
       "      <td>0.614044</td>\n",
       "      <td>0.733716</td>\n",
       "    </tr>\n",
       "    <tr>\n",
       "      <th>2000-01-07</th>\n",
       "      <td>1.355005</td>\n",
       "      <td>0.011575</td>\n",
       "      <td>0.753482</td>\n",
       "    </tr>\n",
       "    <tr>\n",
       "      <th>2000-01-08</th>\n",
       "      <td>1.292235</td>\n",
       "      <td>-0.107744</td>\n",
       "      <td>-1.205936</td>\n",
       "    </tr>\n",
       "  </tbody>\n",
       "</table>\n",
       "</div>"
      ],
      "text/plain": [
       "                   B         C         D\n",
       "2000-01-01 -1.100159  0.802604 -0.854329\n",
       "2000-01-02 -0.097406  0.028375  1.983802\n",
       "2000-01-03  1.755941  0.387311  1.237508\n",
       "2000-01-04 -2.081861  0.031153 -0.784259\n",
       "2000-01-05  1.205675  0.253089  0.209503\n",
       "2000-01-06  2.225229  0.614044  0.733716\n",
       "2000-01-07  1.355005  0.011575  0.753482\n",
       "2000-01-08  1.292235 -0.107744 -1.205936"
      ]
     },
     "execution_count": 72,
     "metadata": {},
     "output_type": "execute_result"
    }
   ],
   "source": [
    "dfNoA = df.loc[:,['B','C', 'D']].copy()\n",
    "dfNoA"
   ]
  },
  {
   "cell_type": "code",
   "execution_count": 73,
   "metadata": {
    "collapsed": false,
    "scrolled": false
   },
   "outputs": [
    {
     "name": "stderr",
     "output_type": "stream",
     "text": [
      "/Users/zxwang/.pyenv/versions/tensorflow/lib/python3.6/site-packages/ipykernel_launcher.py:2: UserWarning: Pandas doesn't allow columns to be created via a new attribute name - see https://pandas.pydata.org/pandas-docs/stable/indexing.html#attribute-access\n",
      "  \n"
     ]
    }
   ],
   "source": [
    "# 用 Attribute Index 尝试创建新列时, 此时 F 会作为 dfNoA的属性存在, 而不是DataFrame中的一个Col\n",
    "dfNoA.F = list(range(len(df.index)))"
   ]
  },
  {
   "cell_type": "code",
   "execution_count": 74,
   "metadata": {
    "collapsed": false
   },
   "outputs": [
    {
     "data": {
      "text/html": [
       "<div>\n",
       "<style scoped>\n",
       "    .dataframe tbody tr th:only-of-type {\n",
       "        vertical-align: middle;\n",
       "    }\n",
       "\n",
       "    .dataframe tbody tr th {\n",
       "        vertical-align: top;\n",
       "    }\n",
       "\n",
       "    .dataframe thead th {\n",
       "        text-align: right;\n",
       "    }\n",
       "</style>\n",
       "<table border=\"1\" class=\"dataframe\">\n",
       "  <thead>\n",
       "    <tr style=\"text-align: right;\">\n",
       "      <th></th>\n",
       "      <th>B</th>\n",
       "      <th>C</th>\n",
       "      <th>D</th>\n",
       "    </tr>\n",
       "  </thead>\n",
       "  <tbody>\n",
       "    <tr>\n",
       "      <th>2000-01-01</th>\n",
       "      <td>-1.100159</td>\n",
       "      <td>0.802604</td>\n",
       "      <td>-0.854329</td>\n",
       "    </tr>\n",
       "    <tr>\n",
       "      <th>2000-01-02</th>\n",
       "      <td>-0.097406</td>\n",
       "      <td>0.028375</td>\n",
       "      <td>1.983802</td>\n",
       "    </tr>\n",
       "    <tr>\n",
       "      <th>2000-01-03</th>\n",
       "      <td>1.755941</td>\n",
       "      <td>0.387311</td>\n",
       "      <td>1.237508</td>\n",
       "    </tr>\n",
       "    <tr>\n",
       "      <th>2000-01-04</th>\n",
       "      <td>-2.081861</td>\n",
       "      <td>0.031153</td>\n",
       "      <td>-0.784259</td>\n",
       "    </tr>\n",
       "    <tr>\n",
       "      <th>2000-01-05</th>\n",
       "      <td>1.205675</td>\n",
       "      <td>0.253089</td>\n",
       "      <td>0.209503</td>\n",
       "    </tr>\n",
       "    <tr>\n",
       "      <th>2000-01-06</th>\n",
       "      <td>2.225229</td>\n",
       "      <td>0.614044</td>\n",
       "      <td>0.733716</td>\n",
       "    </tr>\n",
       "    <tr>\n",
       "      <th>2000-01-07</th>\n",
       "      <td>1.355005</td>\n",
       "      <td>0.011575</td>\n",
       "      <td>0.753482</td>\n",
       "    </tr>\n",
       "    <tr>\n",
       "      <th>2000-01-08</th>\n",
       "      <td>1.292235</td>\n",
       "      <td>-0.107744</td>\n",
       "      <td>-1.205936</td>\n",
       "    </tr>\n",
       "  </tbody>\n",
       "</table>\n",
       "</div>"
      ],
      "text/plain": [
       "                   B         C         D\n",
       "2000-01-01 -1.100159  0.802604 -0.854329\n",
       "2000-01-02 -0.097406  0.028375  1.983802\n",
       "2000-01-03  1.755941  0.387311  1.237508\n",
       "2000-01-04 -2.081861  0.031153 -0.784259\n",
       "2000-01-05  1.205675  0.253089  0.209503\n",
       "2000-01-06  2.225229  0.614044  0.733716\n",
       "2000-01-07  1.355005  0.011575  0.753482\n",
       "2000-01-08  1.292235 -0.107744 -1.205936"
      ]
     },
     "execution_count": 74,
     "metadata": {},
     "output_type": "execute_result"
    }
   ],
   "source": [
    "dfNoA"
   ]
  },
  {
   "cell_type": "code",
   "execution_count": 76,
   "metadata": {
    "collapsed": false
   },
   "outputs": [
    {
     "data": {
      "text/plain": [
       "[0, 1, 2, 3, 4, 5, 6, 7]"
      ]
     },
     "execution_count": 76,
     "metadata": {},
     "output_type": "execute_result"
    }
   ],
   "source": [
    "dfNoA.F"
   ]
  },
  {
   "cell_type": "code",
   "execution_count": 77,
   "metadata": {
    "collapsed": false
   },
   "outputs": [
    {
     "data": {
      "text/html": [
       "<div>\n",
       "<style scoped>\n",
       "    .dataframe tbody tr th:only-of-type {\n",
       "        vertical-align: middle;\n",
       "    }\n",
       "\n",
       "    .dataframe tbody tr th {\n",
       "        vertical-align: top;\n",
       "    }\n",
       "\n",
       "    .dataframe thead th {\n",
       "        text-align: right;\n",
       "    }\n",
       "</style>\n",
       "<table border=\"1\" class=\"dataframe\">\n",
       "  <thead>\n",
       "    <tr style=\"text-align: right;\">\n",
       "      <th></th>\n",
       "      <th>B</th>\n",
       "      <th>C</th>\n",
       "      <th>D</th>\n",
       "      <th>A</th>\n",
       "    </tr>\n",
       "  </thead>\n",
       "  <tbody>\n",
       "    <tr>\n",
       "      <th>2000-01-01</th>\n",
       "      <td>-1.100159</td>\n",
       "      <td>0.802604</td>\n",
       "      <td>-0.854329</td>\n",
       "      <td>0</td>\n",
       "    </tr>\n",
       "    <tr>\n",
       "      <th>2000-01-02</th>\n",
       "      <td>-0.097406</td>\n",
       "      <td>0.028375</td>\n",
       "      <td>1.983802</td>\n",
       "      <td>1</td>\n",
       "    </tr>\n",
       "    <tr>\n",
       "      <th>2000-01-03</th>\n",
       "      <td>1.755941</td>\n",
       "      <td>0.387311</td>\n",
       "      <td>1.237508</td>\n",
       "      <td>2</td>\n",
       "    </tr>\n",
       "    <tr>\n",
       "      <th>2000-01-04</th>\n",
       "      <td>-2.081861</td>\n",
       "      <td>0.031153</td>\n",
       "      <td>-0.784259</td>\n",
       "      <td>3</td>\n",
       "    </tr>\n",
       "    <tr>\n",
       "      <th>2000-01-05</th>\n",
       "      <td>1.205675</td>\n",
       "      <td>0.253089</td>\n",
       "      <td>0.209503</td>\n",
       "      <td>4</td>\n",
       "    </tr>\n",
       "    <tr>\n",
       "      <th>2000-01-06</th>\n",
       "      <td>2.225229</td>\n",
       "      <td>0.614044</td>\n",
       "      <td>0.733716</td>\n",
       "      <td>5</td>\n",
       "    </tr>\n",
       "    <tr>\n",
       "      <th>2000-01-07</th>\n",
       "      <td>1.355005</td>\n",
       "      <td>0.011575</td>\n",
       "      <td>0.753482</td>\n",
       "      <td>6</td>\n",
       "    </tr>\n",
       "    <tr>\n",
       "      <th>2000-01-08</th>\n",
       "      <td>1.292235</td>\n",
       "      <td>-0.107744</td>\n",
       "      <td>-1.205936</td>\n",
       "      <td>7</td>\n",
       "    </tr>\n",
       "  </tbody>\n",
       "</table>\n",
       "</div>"
      ],
      "text/plain": [
       "                   B         C         D  A\n",
       "2000-01-01 -1.100159  0.802604 -0.854329  0\n",
       "2000-01-02 -0.097406  0.028375  1.983802  1\n",
       "2000-01-03  1.755941  0.387311  1.237508  2\n",
       "2000-01-04 -2.081861  0.031153 -0.784259  3\n",
       "2000-01-05  1.205675  0.253089  0.209503  4\n",
       "2000-01-06  2.225229  0.614044  0.733716  5\n",
       "2000-01-07  1.355005  0.011575  0.753482  6\n",
       "2000-01-08  1.292235 -0.107744 -1.205936  7"
      ]
     },
     "execution_count": 77,
     "metadata": {},
     "output_type": "execute_result"
    }
   ],
   "source": [
    "# 使用 loc Index 创建新列\n",
    "dfNoA.loc[:,'A'] = list(range(len(df.index)))\n",
    "dfNoA"
   ]
  },
  {
   "cell_type": "code",
   "execution_count": 78,
   "metadata": {
    "collapsed": false,
    "scrolled": true
   },
   "outputs": [
    {
     "data": {
      "text/html": [
       "<div>\n",
       "<style scoped>\n",
       "    .dataframe tbody tr th:only-of-type {\n",
       "        vertical-align: middle;\n",
       "    }\n",
       "\n",
       "    .dataframe tbody tr th {\n",
       "        vertical-align: top;\n",
       "    }\n",
       "\n",
       "    .dataframe thead th {\n",
       "        text-align: right;\n",
       "    }\n",
       "</style>\n",
       "<table border=\"1\" class=\"dataframe\">\n",
       "  <thead>\n",
       "    <tr style=\"text-align: right;\">\n",
       "      <th></th>\n",
       "      <th>B</th>\n",
       "      <th>C</th>\n",
       "      <th>D</th>\n",
       "      <th>A</th>\n",
       "    </tr>\n",
       "  </thead>\n",
       "  <tbody>\n",
       "    <tr>\n",
       "      <th>2000-01-01</th>\n",
       "      <td>-1.100159</td>\n",
       "      <td>0.802604</td>\n",
       "      <td>-0.854329</td>\n",
       "      <td>0</td>\n",
       "    </tr>\n",
       "    <tr>\n",
       "      <th>2000-01-02</th>\n",
       "      <td>-0.097406</td>\n",
       "      <td>0.028375</td>\n",
       "      <td>1.983802</td>\n",
       "      <td>1</td>\n",
       "    </tr>\n",
       "    <tr>\n",
       "      <th>2000-01-03</th>\n",
       "      <td>1.755941</td>\n",
       "      <td>0.387311</td>\n",
       "      <td>1.237508</td>\n",
       "      <td>2</td>\n",
       "    </tr>\n",
       "    <tr>\n",
       "      <th>2000-01-04</th>\n",
       "      <td>-2.081861</td>\n",
       "      <td>0.031153</td>\n",
       "      <td>-0.784259</td>\n",
       "      <td>3</td>\n",
       "    </tr>\n",
       "    <tr>\n",
       "      <th>2000-01-05</th>\n",
       "      <td>1.205675</td>\n",
       "      <td>0.253089</td>\n",
       "      <td>0.209503</td>\n",
       "      <td>4</td>\n",
       "    </tr>\n",
       "    <tr>\n",
       "      <th>2000-01-06</th>\n",
       "      <td>2.225229</td>\n",
       "      <td>0.614044</td>\n",
       "      <td>0.733716</td>\n",
       "      <td>5</td>\n",
       "    </tr>\n",
       "    <tr>\n",
       "      <th>2000-01-07</th>\n",
       "      <td>1.355005</td>\n",
       "      <td>0.011575</td>\n",
       "      <td>0.753482</td>\n",
       "      <td>6</td>\n",
       "    </tr>\n",
       "    <tr>\n",
       "      <th>2000-01-08</th>\n",
       "      <td>1.292235</td>\n",
       "      <td>-0.107744</td>\n",
       "      <td>-1.205936</td>\n",
       "      <td>7</td>\n",
       "    </tr>\n",
       "  </tbody>\n",
       "</table>\n",
       "</div>"
      ],
      "text/plain": [
       "                   B         C         D  A\n",
       "2000-01-01 -1.100159  0.802604 -0.854329  0\n",
       "2000-01-02 -0.097406  0.028375  1.983802  1\n",
       "2000-01-03  1.755941  0.387311  1.237508  2\n",
       "2000-01-04 -2.081861  0.031153 -0.784259  3\n",
       "2000-01-05  1.205675  0.253089  0.209503  4\n",
       "2000-01-06  2.225229  0.614044  0.733716  5\n",
       "2000-01-07  1.355005  0.011575  0.753482  6\n",
       "2000-01-08  1.292235 -0.107744 -1.205936  7"
      ]
     },
     "execution_count": 78,
     "metadata": {},
     "output_type": "execute_result"
    }
   ],
   "source": [
    "# 使用 [] index 创建新列\n",
    "dfNoA1 = df.loc[:,['B','C', 'D']].copy()\n",
    "dfNoA1['A'] = list(range(len(df.index)))\n",
    "dfNoA1"
   ]
  },
  {
   "cell_type": "markdown",
   "metadata": {},
   "source": [
    "## Slicing Ranges"
   ]
  },
  {
   "cell_type": "markdown",
   "metadata": {},
   "source": [
    "DataFrame 中使用 `[]` Index进行Range Slice时, 是在 `Row` 上进行起作用的."
   ]
  },
  {
   "cell_type": "code",
   "execution_count": 79,
   "metadata": {
    "collapsed": false
   },
   "outputs": [
    {
     "data": {
      "text/html": [
       "<div>\n",
       "<style scoped>\n",
       "    .dataframe tbody tr th:only-of-type {\n",
       "        vertical-align: middle;\n",
       "    }\n",
       "\n",
       "    .dataframe tbody tr th {\n",
       "        vertical-align: top;\n",
       "    }\n",
       "\n",
       "    .dataframe thead th {\n",
       "        text-align: right;\n",
       "    }\n",
       "</style>\n",
       "<table border=\"1\" class=\"dataframe\">\n",
       "  <thead>\n",
       "    <tr style=\"text-align: right;\">\n",
       "      <th></th>\n",
       "      <th>A</th>\n",
       "      <th>B</th>\n",
       "      <th>C</th>\n",
       "      <th>D</th>\n",
       "    </tr>\n",
       "  </thead>\n",
       "  <tbody>\n",
       "    <tr>\n",
       "      <th>2000-01-01</th>\n",
       "      <td>1.002840</td>\n",
       "      <td>-1.100159</td>\n",
       "      <td>0.802604</td>\n",
       "      <td>-0.854329</td>\n",
       "    </tr>\n",
       "    <tr>\n",
       "      <th>2000-01-02</th>\n",
       "      <td>1.339418</td>\n",
       "      <td>-0.097406</td>\n",
       "      <td>0.028375</td>\n",
       "      <td>1.983802</td>\n",
       "    </tr>\n",
       "    <tr>\n",
       "      <th>2000-01-03</th>\n",
       "      <td>0.934340</td>\n",
       "      <td>1.755941</td>\n",
       "      <td>0.387311</td>\n",
       "      <td>1.237508</td>\n",
       "    </tr>\n",
       "    <tr>\n",
       "      <th>2000-01-04</th>\n",
       "      <td>-1.350004</td>\n",
       "      <td>-2.081861</td>\n",
       "      <td>0.031153</td>\n",
       "      <td>-0.784259</td>\n",
       "    </tr>\n",
       "    <tr>\n",
       "      <th>2000-01-05</th>\n",
       "      <td>0.579421</td>\n",
       "      <td>1.205675</td>\n",
       "      <td>0.253089</td>\n",
       "      <td>0.209503</td>\n",
       "    </tr>\n",
       "    <tr>\n",
       "      <th>2000-01-06</th>\n",
       "      <td>-0.094316</td>\n",
       "      <td>2.225229</td>\n",
       "      <td>0.614044</td>\n",
       "      <td>0.733716</td>\n",
       "    </tr>\n",
       "    <tr>\n",
       "      <th>2000-01-07</th>\n",
       "      <td>-1.327806</td>\n",
       "      <td>1.355005</td>\n",
       "      <td>0.011575</td>\n",
       "      <td>0.753482</td>\n",
       "    </tr>\n",
       "    <tr>\n",
       "      <th>2000-01-08</th>\n",
       "      <td>-0.136517</td>\n",
       "      <td>1.292235</td>\n",
       "      <td>-0.107744</td>\n",
       "      <td>-1.205936</td>\n",
       "    </tr>\n",
       "  </tbody>\n",
       "</table>\n",
       "</div>"
      ],
      "text/plain": [
       "                   A         B         C         D\n",
       "2000-01-01  1.002840 -1.100159  0.802604 -0.854329\n",
       "2000-01-02  1.339418 -0.097406  0.028375  1.983802\n",
       "2000-01-03  0.934340  1.755941  0.387311  1.237508\n",
       "2000-01-04 -1.350004 -2.081861  0.031153 -0.784259\n",
       "2000-01-05  0.579421  1.205675  0.253089  0.209503\n",
       "2000-01-06 -0.094316  2.225229  0.614044  0.733716\n",
       "2000-01-07 -1.327806  1.355005  0.011575  0.753482\n",
       "2000-01-08 -0.136517  1.292235 -0.107744 -1.205936"
      ]
     },
     "execution_count": 79,
     "metadata": {},
     "output_type": "execute_result"
    }
   ],
   "source": [
    "df"
   ]
  },
  {
   "cell_type": "code",
   "execution_count": 80,
   "metadata": {
    "collapsed": false,
    "scrolled": true
   },
   "outputs": [
    {
     "data": {
      "text/html": [
       "<div>\n",
       "<style scoped>\n",
       "    .dataframe tbody tr th:only-of-type {\n",
       "        vertical-align: middle;\n",
       "    }\n",
       "\n",
       "    .dataframe tbody tr th {\n",
       "        vertical-align: top;\n",
       "    }\n",
       "\n",
       "    .dataframe thead th {\n",
       "        text-align: right;\n",
       "    }\n",
       "</style>\n",
       "<table border=\"1\" class=\"dataframe\">\n",
       "  <thead>\n",
       "    <tr style=\"text-align: right;\">\n",
       "      <th></th>\n",
       "      <th>A</th>\n",
       "      <th>B</th>\n",
       "      <th>C</th>\n",
       "      <th>D</th>\n",
       "    </tr>\n",
       "  </thead>\n",
       "  <tbody>\n",
       "    <tr>\n",
       "      <th>2000-01-01</th>\n",
       "      <td>1.002840</td>\n",
       "      <td>-1.100159</td>\n",
       "      <td>0.802604</td>\n",
       "      <td>-0.854329</td>\n",
       "    </tr>\n",
       "    <tr>\n",
       "      <th>2000-01-02</th>\n",
       "      <td>1.339418</td>\n",
       "      <td>-0.097406</td>\n",
       "      <td>0.028375</td>\n",
       "      <td>1.983802</td>\n",
       "    </tr>\n",
       "    <tr>\n",
       "      <th>2000-01-03</th>\n",
       "      <td>0.934340</td>\n",
       "      <td>1.755941</td>\n",
       "      <td>0.387311</td>\n",
       "      <td>1.237508</td>\n",
       "    </tr>\n",
       "  </tbody>\n",
       "</table>\n",
       "</div>"
      ],
      "text/plain": [
       "                   A         B         C         D\n",
       "2000-01-01  1.002840 -1.100159  0.802604 -0.854329\n",
       "2000-01-02  1.339418 -0.097406  0.028375  1.983802\n",
       "2000-01-03  0.934340  1.755941  0.387311  1.237508"
      ]
     },
     "execution_count": 80,
     "metadata": {},
     "output_type": "execute_result"
    }
   ],
   "source": [
    "df[:3]"
   ]
  },
  {
   "cell_type": "markdown",
   "metadata": {},
   "source": [
    "## Selection By Label\n",
    "\n",
    "Pandas提供了一组方法, 以允许纯粹地基于Label进行Index.\n",
    "\n",
    "`.loc` 索引方法是Pandas使用label索引时最重要的的索引方法. 以下是 `.loc` 索引的有效输入\n",
    " 1. 单独的Label, 比如 'a'或者 5. 但是请注意, 单独的Label传入loc索引, 是对Row Label的索引. 以及5 在此处是 Index的Label, 并不代表 \"第5个元素\".\n",
    " \n",
    " 2. List or Array of Labels. ['a', 'b', 'c']\n",
    " \n",
    " 3. Slice Object. ['a':'c']. 注意, Pandas的Slice是开始和结束都包括在索引里的.\n",
    " \n",
    " 4. A boolean Array\n",
    " \n",
    " 5. A callable."
   ]
  },
  {
   "cell_type": "code",
   "execution_count": 83,
   "metadata": {
    "collapsed": false
   },
   "outputs": [
    {
     "data": {
      "text/html": [
       "<div>\n",
       "<style scoped>\n",
       "    .dataframe tbody tr th:only-of-type {\n",
       "        vertical-align: middle;\n",
       "    }\n",
       "\n",
       "    .dataframe tbody tr th {\n",
       "        vertical-align: top;\n",
       "    }\n",
       "\n",
       "    .dataframe thead th {\n",
       "        text-align: right;\n",
       "    }\n",
       "</style>\n",
       "<table border=\"1\" class=\"dataframe\">\n",
       "  <thead>\n",
       "    <tr style=\"text-align: right;\">\n",
       "      <th></th>\n",
       "      <th>A</th>\n",
       "      <th>B</th>\n",
       "      <th>C</th>\n",
       "      <th>D</th>\n",
       "    </tr>\n",
       "  </thead>\n",
       "  <tbody>\n",
       "    <tr>\n",
       "      <th>a</th>\n",
       "      <td>-0.142926</td>\n",
       "      <td>0.549659</td>\n",
       "      <td>-0.092537</td>\n",
       "      <td>-0.063325</td>\n",
       "    </tr>\n",
       "    <tr>\n",
       "      <th>b</th>\n",
       "      <td>-1.909139</td>\n",
       "      <td>0.782975</td>\n",
       "      <td>1.155431</td>\n",
       "      <td>-0.123845</td>\n",
       "    </tr>\n",
       "    <tr>\n",
       "      <th>c</th>\n",
       "      <td>-1.026101</td>\n",
       "      <td>-1.602281</td>\n",
       "      <td>-1.442834</td>\n",
       "      <td>-1.022287</td>\n",
       "    </tr>\n",
       "    <tr>\n",
       "      <th>d</th>\n",
       "      <td>0.339217</td>\n",
       "      <td>-1.028936</td>\n",
       "      <td>0.038925</td>\n",
       "      <td>-1.947464</td>\n",
       "    </tr>\n",
       "    <tr>\n",
       "      <th>e</th>\n",
       "      <td>-0.935500</td>\n",
       "      <td>0.580638</td>\n",
       "      <td>-1.099602</td>\n",
       "      <td>2.203068</td>\n",
       "    </tr>\n",
       "    <tr>\n",
       "      <th>f</th>\n",
       "      <td>-0.459713</td>\n",
       "      <td>-0.245413</td>\n",
       "      <td>-0.484180</td>\n",
       "      <td>-1.366796</td>\n",
       "    </tr>\n",
       "  </tbody>\n",
       "</table>\n",
       "</div>"
      ],
      "text/plain": [
       "          A         B         C         D\n",
       "a -0.142926  0.549659 -0.092537 -0.063325\n",
       "b -1.909139  0.782975  1.155431 -0.123845\n",
       "c -1.026101 -1.602281 -1.442834 -1.022287\n",
       "d  0.339217 -1.028936  0.038925 -1.947464\n",
       "e -0.935500  0.580638 -1.099602  2.203068\n",
       "f -0.459713 -0.245413 -0.484180 -1.366796"
      ]
     },
     "execution_count": 83,
     "metadata": {},
     "output_type": "execute_result"
    }
   ],
   "source": [
    "df1 = pd.DataFrame(np.random.randn(6, 4), index=list(\"abcdef\"), columns=list(\"ABCD\"))\n",
    "df1"
   ]
  },
  {
   "cell_type": "code",
   "execution_count": 85,
   "metadata": {
    "collapsed": false
   },
   "outputs": [
    {
     "data": {
      "text/html": [
       "<div>\n",
       "<style scoped>\n",
       "    .dataframe tbody tr th:only-of-type {\n",
       "        vertical-align: middle;\n",
       "    }\n",
       "\n",
       "    .dataframe tbody tr th {\n",
       "        vertical-align: top;\n",
       "    }\n",
       "\n",
       "    .dataframe thead th {\n",
       "        text-align: right;\n",
       "    }\n",
       "</style>\n",
       "<table border=\"1\" class=\"dataframe\">\n",
       "  <thead>\n",
       "    <tr style=\"text-align: right;\">\n",
       "      <th></th>\n",
       "      <th>A</th>\n",
       "      <th>B</th>\n",
       "      <th>C</th>\n",
       "      <th>D</th>\n",
       "    </tr>\n",
       "  </thead>\n",
       "  <tbody>\n",
       "    <tr>\n",
       "      <th>a</th>\n",
       "      <td>-0.142926</td>\n",
       "      <td>0.549659</td>\n",
       "      <td>-0.092537</td>\n",
       "      <td>-0.063325</td>\n",
       "    </tr>\n",
       "    <tr>\n",
       "      <th>b</th>\n",
       "      <td>-1.909139</td>\n",
       "      <td>0.782975</td>\n",
       "      <td>1.155431</td>\n",
       "      <td>-0.123845</td>\n",
       "    </tr>\n",
       "    <tr>\n",
       "      <th>c</th>\n",
       "      <td>-1.026101</td>\n",
       "      <td>-1.602281</td>\n",
       "      <td>-1.442834</td>\n",
       "      <td>-1.022287</td>\n",
       "    </tr>\n",
       "  </tbody>\n",
       "</table>\n",
       "</div>"
      ],
      "text/plain": [
       "          A         B         C         D\n",
       "a -0.142926  0.549659 -0.092537 -0.063325\n",
       "b -1.909139  0.782975  1.155431 -0.123845\n",
       "c -1.026101 -1.602281 -1.442834 -1.022287"
      ]
     },
     "execution_count": 85,
     "metadata": {},
     "output_type": "execute_result"
    }
   ],
   "source": [
    "# Access with list of index labels\n",
    "df1.loc[['a','b','c'], :]"
   ]
  },
  {
   "cell_type": "code",
   "execution_count": 86,
   "metadata": {
    "collapsed": false
   },
   "outputs": [
    {
     "data": {
      "text/html": [
       "<div>\n",
       "<style scoped>\n",
       "    .dataframe tbody tr th:only-of-type {\n",
       "        vertical-align: middle;\n",
       "    }\n",
       "\n",
       "    .dataframe tbody tr th {\n",
       "        vertical-align: top;\n",
       "    }\n",
       "\n",
       "    .dataframe thead th {\n",
       "        text-align: right;\n",
       "    }\n",
       "</style>\n",
       "<table border=\"1\" class=\"dataframe\">\n",
       "  <thead>\n",
       "    <tr style=\"text-align: right;\">\n",
       "      <th></th>\n",
       "      <th>A</th>\n",
       "      <th>C</th>\n",
       "    </tr>\n",
       "  </thead>\n",
       "  <tbody>\n",
       "    <tr>\n",
       "      <th>a</th>\n",
       "      <td>-0.142926</td>\n",
       "      <td>-0.092537</td>\n",
       "    </tr>\n",
       "    <tr>\n",
       "      <th>b</th>\n",
       "      <td>-1.909139</td>\n",
       "      <td>1.155431</td>\n",
       "    </tr>\n",
       "    <tr>\n",
       "      <th>c</th>\n",
       "      <td>-1.026101</td>\n",
       "      <td>-1.442834</td>\n",
       "    </tr>\n",
       "    <tr>\n",
       "      <th>d</th>\n",
       "      <td>0.339217</td>\n",
       "      <td>0.038925</td>\n",
       "    </tr>\n",
       "    <tr>\n",
       "      <th>e</th>\n",
       "      <td>-0.935500</td>\n",
       "      <td>-1.099602</td>\n",
       "    </tr>\n",
       "    <tr>\n",
       "      <th>f</th>\n",
       "      <td>-0.459713</td>\n",
       "      <td>-0.484180</td>\n",
       "    </tr>\n",
       "  </tbody>\n",
       "</table>\n",
       "</div>"
      ],
      "text/plain": [
       "          A         C\n",
       "a -0.142926 -0.092537\n",
       "b -1.909139  1.155431\n",
       "c -1.026101 -1.442834\n",
       "d  0.339217  0.038925\n",
       "e -0.935500 -1.099602\n",
       "f -0.459713 -0.484180"
      ]
     },
     "execution_count": 86,
     "metadata": {},
     "output_type": "execute_result"
    }
   ],
   "source": [
    "#Access with list of col labels\n",
    "df1.loc[:, ['A', 'C']]"
   ]
  },
  {
   "cell_type": "code",
   "execution_count": 87,
   "metadata": {
    "collapsed": false
   },
   "outputs": [
    {
     "data": {
      "text/plain": [
       "A   -1.909139\n",
       "B    0.782975\n",
       "C    1.155431\n",
       "Name: b, dtype: float64"
      ]
     },
     "execution_count": 87,
     "metadata": {},
     "output_type": "execute_result"
    }
   ],
   "source": [
    "# Access via label slice object\n",
    "df1.loc['b', 'A':'C']"
   ]
  },
  {
   "cell_type": "code",
   "execution_count": 89,
   "metadata": {
    "collapsed": false
   },
   "outputs": [
    {
     "data": {
      "text/html": [
       "<div>\n",
       "<style scoped>\n",
       "    .dataframe tbody tr th:only-of-type {\n",
       "        vertical-align: middle;\n",
       "    }\n",
       "\n",
       "    .dataframe tbody tr th {\n",
       "        vertical-align: top;\n",
       "    }\n",
       "\n",
       "    .dataframe thead th {\n",
       "        text-align: right;\n",
       "    }\n",
       "</style>\n",
       "<table border=\"1\" class=\"dataframe\">\n",
       "  <thead>\n",
       "    <tr style=\"text-align: right;\">\n",
       "      <th></th>\n",
       "      <th>B</th>\n",
       "      <th>C</th>\n",
       "    </tr>\n",
       "  </thead>\n",
       "  <tbody>\n",
       "    <tr>\n",
       "      <th>a</th>\n",
       "      <td>0.549659</td>\n",
       "      <td>-0.092537</td>\n",
       "    </tr>\n",
       "    <tr>\n",
       "      <th>b</th>\n",
       "      <td>0.782975</td>\n",
       "      <td>1.155431</td>\n",
       "    </tr>\n",
       "    <tr>\n",
       "      <th>c</th>\n",
       "      <td>-1.602281</td>\n",
       "      <td>-1.442834</td>\n",
       "    </tr>\n",
       "    <tr>\n",
       "      <th>d</th>\n",
       "      <td>-1.028936</td>\n",
       "      <td>0.038925</td>\n",
       "    </tr>\n",
       "    <tr>\n",
       "      <th>e</th>\n",
       "      <td>0.580638</td>\n",
       "      <td>-1.099602</td>\n",
       "    </tr>\n",
       "    <tr>\n",
       "      <th>f</th>\n",
       "      <td>-0.245413</td>\n",
       "      <td>-0.484180</td>\n",
       "    </tr>\n",
       "  </tbody>\n",
       "</table>\n",
       "</div>"
      ],
      "text/plain": [
       "          B         C\n",
       "a  0.549659 -0.092537\n",
       "b  0.782975  1.155431\n",
       "c -1.602281 -1.442834\n",
       "d -1.028936  0.038925\n",
       "e  0.580638 -1.099602\n",
       "f -0.245413 -0.484180"
      ]
     },
     "execution_count": 89,
     "metadata": {},
     "output_type": "execute_result"
    }
   ],
   "source": [
    "# Getting Value with boolean array\n",
    "df1.loc[:, df1.loc['b'] > 0]"
   ]
  },
  {
   "cell_type": "markdown",
   "metadata": {},
   "source": [
    "以上的语句表达的含义为:\n",
    "\n",
    "找到这样的Col的所有值, 这些col在 \"b\" index(row) 上的值应该大于0. 这个.loc索引语句是根据行值选择列.\n",
    "\n",
    "如果单独执行 `b` 语句. 可以看出它返回的是对应各Col的 Boolean Series."
   ]
  },
  {
   "cell_type": "code",
   "execution_count": 92,
   "metadata": {
    "collapsed": false,
    "scrolled": true
   },
   "outputs": [
    {
     "data": {
      "text/plain": [
       "A    False\n",
       "B     True\n",
       "C     True\n",
       "D    False\n",
       "Name: b, dtype: bool"
      ]
     },
     "execution_count": 92,
     "metadata": {},
     "output_type": "execute_result"
    }
   ],
   "source": [
    "df1.loc['b'] > 0"
   ]
  },
  {
   "cell_type": "markdown",
   "metadata": {},
   "source": [
    "### Slicing with Labels 细节\n",
    "\n",
    "很明显, 使用 Label进行Slice是需要关注一些细节的.\n",
    "在Python的list slice中, slice的开始和结束都是基于\"位置\"的. 而不管list的长度怎样, 在位置上这些总是连续的. 如果对 Pandas 对象使用基于Label的slice. 很明显地是, Label并不总是连续, 甚至是乱序的. 比如 col label可以是 `['b', 'f', 'a']` , 此时如果使用slice会发生什么?\n",
    "\n",
    "答案是... 会拿到位于起始label与结束label之间的所有label, 包括起始label和结束label."
   ]
  },
  {
   "cell_type": "code",
   "execution_count": 93,
   "metadata": {
    "collapsed": true
   },
   "outputs": [],
   "source": [
    "s1 = pd.Series(list('abcde'), index=[0,3,2,5,4])"
   ]
  },
  {
   "cell_type": "code",
   "execution_count": 96,
   "metadata": {
    "collapsed": false
   },
   "outputs": [
    {
     "data": {
      "text/plain": [
       "3    b\n",
       "2    c\n",
       "5    d\n",
       "dtype: object"
      ]
     },
     "execution_count": 96,
     "metadata": {},
     "output_type": "execute_result"
    }
   ],
   "source": [
    "# 拿到开始和结束label之间的所有label, 包括开始和结束label\n",
    "s1.loc[3:5]"
   ]
  },
  {
   "cell_type": "markdown",
   "metadata": {},
   "source": [
    "如果slice的开始label和结束label不在Pandas对象的label中, 会发生什么?\n",
    "\n",
    "这取决于Pandas对象的Label是否已经按顺序排列.\n",
    "\n",
    "1. 如果label是排序的, 那么会取最靠近开始label和结束label(假设slice的开始和结束label都不存在于labels中)\n",
    "2. 如果label是无序的, 那么会抛出异常."
   ]
  },
  {
   "cell_type": "code",
   "execution_count": null,
   "metadata": {
    "collapsed": true
   },
   "outputs": [],
   "source": [
    "# s1的index labels 无序, 因此使用 .loc[1:6]会抛出异常.\n",
    "s1.loc[1:6]"
   ]
  },
  {
   "cell_type": "code",
   "execution_count": 101,
   "metadata": {
    "collapsed": true
   },
   "outputs": [],
   "source": [
    "# s1.sort_index() 之后得到的Series对象是有序的, 使用 .loc[1:6] 索引可以成功."
   ]
  },
  {
   "cell_type": "code",
   "execution_count": 102,
   "metadata": {
    "collapsed": false
   },
   "outputs": [
    {
     "data": {
      "text/plain": [
       "2    c\n",
       "3    b\n",
       "4    e\n",
       "5    d\n",
       "dtype: object"
      ]
     },
     "execution_count": 102,
     "metadata": {},
     "output_type": "execute_result"
    }
   ],
   "source": [
    "s1.sort_index().loc[1:6]"
   ]
  },
  {
   "cell_type": "markdown",
   "metadata": {},
   "source": [
    "## Selection by Position\n",
    "\n",
    "Pandas提供了一组方法, 能够纯粹基于Integer进行索引. 该索引的语法与Python以及Numpy的slicing 很相近: 0-based 索引, 当slice操作时, 结果包含了开始position, 不包括结束position. 使用一个非整数数值索引, 甚至是valid label时, 都会抛出异常.\n",
    "\n",
    ".iloc 方法是Selection by Position的Primary方法, 以下是该方法的有效输入.\n",
    "\n",
    "1. 一个整数, 比如 5\n",
    "2. A list or array of integers [4, 3, 0]\n",
    "3. Slice 对象\n",
    "4. Boolean array\n",
    "5. Callable\n",
    "\n",
    "和 .loc 属性方法的有效输入挺相似的"
   ]
  },
  {
   "cell_type": "code",
   "execution_count": 104,
   "metadata": {
    "collapsed": true
   },
   "outputs": [],
   "source": [
    "df2 = pd.DataFrame(np.random.randn(6,4), index=[1,2,3,4,5,6], columns=list(\"ABCD\"))"
   ]
  },
  {
   "cell_type": "code",
   "execution_count": 105,
   "metadata": {
    "collapsed": false
   },
   "outputs": [
    {
     "data": {
      "text/html": [
       "<div>\n",
       "<style scoped>\n",
       "    .dataframe tbody tr th:only-of-type {\n",
       "        vertical-align: middle;\n",
       "    }\n",
       "\n",
       "    .dataframe tbody tr th {\n",
       "        vertical-align: top;\n",
       "    }\n",
       "\n",
       "    .dataframe thead th {\n",
       "        text-align: right;\n",
       "    }\n",
       "</style>\n",
       "<table border=\"1\" class=\"dataframe\">\n",
       "  <thead>\n",
       "    <tr style=\"text-align: right;\">\n",
       "      <th></th>\n",
       "      <th>A</th>\n",
       "      <th>B</th>\n",
       "      <th>C</th>\n",
       "      <th>D</th>\n",
       "    </tr>\n",
       "  </thead>\n",
       "  <tbody>\n",
       "    <tr>\n",
       "      <th>1</th>\n",
       "      <td>1.087021</td>\n",
       "      <td>0.068346</td>\n",
       "      <td>0.585782</td>\n",
       "      <td>0.856714</td>\n",
       "    </tr>\n",
       "    <tr>\n",
       "      <th>2</th>\n",
       "      <td>-0.228041</td>\n",
       "      <td>-1.119573</td>\n",
       "      <td>-0.093833</td>\n",
       "      <td>0.374173</td>\n",
       "    </tr>\n",
       "    <tr>\n",
       "      <th>3</th>\n",
       "      <td>-1.445161</td>\n",
       "      <td>-1.066899</td>\n",
       "      <td>0.703438</td>\n",
       "      <td>-0.389675</td>\n",
       "    </tr>\n",
       "    <tr>\n",
       "      <th>4</th>\n",
       "      <td>0.090450</td>\n",
       "      <td>1.607158</td>\n",
       "      <td>0.332349</td>\n",
       "      <td>0.383444</td>\n",
       "    </tr>\n",
       "    <tr>\n",
       "      <th>5</th>\n",
       "      <td>0.672404</td>\n",
       "      <td>1.559344</td>\n",
       "      <td>0.606640</td>\n",
       "      <td>-1.168991</td>\n",
       "    </tr>\n",
       "    <tr>\n",
       "      <th>6</th>\n",
       "      <td>-0.465785</td>\n",
       "      <td>-0.925274</td>\n",
       "      <td>-1.322704</td>\n",
       "      <td>-0.874208</td>\n",
       "    </tr>\n",
       "  </tbody>\n",
       "</table>\n",
       "</div>"
      ],
      "text/plain": [
       "          A         B         C         D\n",
       "1  1.087021  0.068346  0.585782  0.856714\n",
       "2 -0.228041 -1.119573 -0.093833  0.374173\n",
       "3 -1.445161 -1.066899  0.703438 -0.389675\n",
       "4  0.090450  1.607158  0.332349  0.383444\n",
       "5  0.672404  1.559344  0.606640 -1.168991\n",
       "6 -0.465785 -0.925274 -1.322704 -0.874208"
      ]
     },
     "execution_count": 105,
     "metadata": {},
     "output_type": "execute_result"
    }
   ],
   "source": [
    "df2"
   ]
  },
  {
   "cell_type": "code",
   "execution_count": 106,
   "metadata": {
    "collapsed": false
   },
   "outputs": [
    {
     "data": {
      "text/html": [
       "<div>\n",
       "<style scoped>\n",
       "    .dataframe tbody tr th:only-of-type {\n",
       "        vertical-align: middle;\n",
       "    }\n",
       "\n",
       "    .dataframe tbody tr th {\n",
       "        vertical-align: top;\n",
       "    }\n",
       "\n",
       "    .dataframe thead th {\n",
       "        text-align: right;\n",
       "    }\n",
       "</style>\n",
       "<table border=\"1\" class=\"dataframe\">\n",
       "  <thead>\n",
       "    <tr style=\"text-align: right;\">\n",
       "      <th></th>\n",
       "      <th>B</th>\n",
       "      <th>C</th>\n",
       "    </tr>\n",
       "  </thead>\n",
       "  <tbody>\n",
       "    <tr>\n",
       "      <th>1</th>\n",
       "      <td>0.068346</td>\n",
       "      <td>0.585782</td>\n",
       "    </tr>\n",
       "    <tr>\n",
       "      <th>2</th>\n",
       "      <td>-1.119573</td>\n",
       "      <td>-0.093833</td>\n",
       "    </tr>\n",
       "    <tr>\n",
       "      <th>3</th>\n",
       "      <td>-1.066899</td>\n",
       "      <td>0.703438</td>\n",
       "    </tr>\n",
       "  </tbody>\n",
       "</table>\n",
       "</div>"
      ],
      "text/plain": [
       "          B         C\n",
       "1  0.068346  0.585782\n",
       "2 -1.119573 -0.093833\n",
       "3 -1.066899  0.703438"
      ]
     },
     "execution_count": 106,
     "metadata": {},
     "output_type": "execute_result"
    }
   ],
   "source": [
    "# iloc 传入slice object\n",
    "df2.iloc[0:3, 1:3]"
   ]
  },
  {
   "cell_type": "code",
   "execution_count": 108,
   "metadata": {
    "collapsed": false
   },
   "outputs": [
    {
     "data": {
      "text/plain": [
       "A   -1.445161\n",
       "B   -1.066899\n",
       "C    0.703438\n",
       "D   -0.389675\n",
       "Name: 3, dtype: float64"
      ]
     },
     "execution_count": 108,
     "metadata": {},
     "output_type": "execute_result"
    }
   ],
   "source": [
    "# iloc 传入Integer, 此时会根据position选择第3行, 而不是根据Index Label选择第2行\n",
    "df2.iloc[2,:]"
   ]
  },
  {
   "cell_type": "markdown",
   "metadata": {},
   "source": [
    "## Selection By Callable\n",
    "\n",
    ".loc, iloc, [] 三种索引方式都可以传入callable 作为参数. Callable 必须是一个function, 该function接受一个参数, 这个参数就是要被索引的Pandas对象, 返回有效的输出作为index. \n",
    "\n",
    "如果以 loc 索引为例, 则该function需要返回的值类型为下列4中之一:\n",
    " 1. 单独的Label, 比如 'a'或者 5. 但是请注意, 单独的Label传入loc索引, 是对Row Label的索引. 以及5 在此处是 Index的Label, 并不代表 \"第5个元素\".\n",
    " \n",
    " 2. List or Array of Labels. ['a', 'b', 'c']\n",
    " \n",
    " 3. Slice Object. ['a':'c']. 注意, Pandas的Slice是开始和结束都包括在索引里的.\n",
    " \n",
    " 4. A boolean Array\n"
   ]
  },
  {
   "cell_type": "code",
   "execution_count": 110,
   "metadata": {
    "collapsed": false
   },
   "outputs": [
    {
     "data": {
      "text/html": [
       "<div>\n",
       "<style scoped>\n",
       "    .dataframe tbody tr th:only-of-type {\n",
       "        vertical-align: middle;\n",
       "    }\n",
       "\n",
       "    .dataframe tbody tr th {\n",
       "        vertical-align: top;\n",
       "    }\n",
       "\n",
       "    .dataframe thead th {\n",
       "        text-align: right;\n",
       "    }\n",
       "</style>\n",
       "<table border=\"1\" class=\"dataframe\">\n",
       "  <thead>\n",
       "    <tr style=\"text-align: right;\">\n",
       "      <th></th>\n",
       "      <th>A</th>\n",
       "      <th>B</th>\n",
       "      <th>C</th>\n",
       "      <th>D</th>\n",
       "    </tr>\n",
       "  </thead>\n",
       "  <tbody>\n",
       "    <tr>\n",
       "      <th>1</th>\n",
       "      <td>1.087021</td>\n",
       "      <td>0.068346</td>\n",
       "      <td>0.585782</td>\n",
       "      <td>0.856714</td>\n",
       "    </tr>\n",
       "    <tr>\n",
       "      <th>4</th>\n",
       "      <td>0.090450</td>\n",
       "      <td>1.607158</td>\n",
       "      <td>0.332349</td>\n",
       "      <td>0.383444</td>\n",
       "    </tr>\n",
       "    <tr>\n",
       "      <th>5</th>\n",
       "      <td>0.672404</td>\n",
       "      <td>1.559344</td>\n",
       "      <td>0.606640</td>\n",
       "      <td>-1.168991</td>\n",
       "    </tr>\n",
       "  </tbody>\n",
       "</table>\n",
       "</div>"
      ],
      "text/plain": [
       "          A         B         C         D\n",
       "1  1.087021  0.068346  0.585782  0.856714\n",
       "4  0.090450  1.607158  0.332349  0.383444\n",
       "5  0.672404  1.559344  0.606640 -1.168991"
      ]
     },
     "execution_count": 110,
     "metadata": {},
     "output_type": "execute_result"
    }
   ],
   "source": [
    "# Selectin by Callable, lambda 返回的结果是 Series of Boolean.\n",
    "df2.loc[lambda df : df['A'] > 0]"
   ]
  },
  {
   "cell_type": "code",
   "execution_count": 112,
   "metadata": {
    "collapsed": false,
    "scrolled": true
   },
   "outputs": [
    {
     "data": {
      "text/html": [
       "<div>\n",
       "<style scoped>\n",
       "    .dataframe tbody tr th:only-of-type {\n",
       "        vertical-align: middle;\n",
       "    }\n",
       "\n",
       "    .dataframe tbody tr th {\n",
       "        vertical-align: top;\n",
       "    }\n",
       "\n",
       "    .dataframe thead th {\n",
       "        text-align: right;\n",
       "    }\n",
       "</style>\n",
       "<table border=\"1\" class=\"dataframe\">\n",
       "  <thead>\n",
       "    <tr style=\"text-align: right;\">\n",
       "      <th></th>\n",
       "      <th>A</th>\n",
       "      <th>B</th>\n",
       "      <th>C</th>\n",
       "      <th>D</th>\n",
       "    </tr>\n",
       "  </thead>\n",
       "  <tbody>\n",
       "    <tr>\n",
       "      <th>1</th>\n",
       "      <td>1.087021</td>\n",
       "      <td>0.068346</td>\n",
       "      <td>0.585782</td>\n",
       "      <td>0.856714</td>\n",
       "    </tr>\n",
       "    <tr>\n",
       "      <th>4</th>\n",
       "      <td>0.090450</td>\n",
       "      <td>1.607158</td>\n",
       "      <td>0.332349</td>\n",
       "      <td>0.383444</td>\n",
       "    </tr>\n",
       "    <tr>\n",
       "      <th>5</th>\n",
       "      <td>0.672404</td>\n",
       "      <td>1.559344</td>\n",
       "      <td>0.606640</td>\n",
       "      <td>-1.168991</td>\n",
       "    </tr>\n",
       "  </tbody>\n",
       "</table>\n",
       "</div>"
      ],
      "text/plain": [
       "          A         B         C         D\n",
       "1  1.087021  0.068346  0.585782  0.856714\n",
       "4  0.090450  1.607158  0.332349  0.383444\n",
       "5  0.672404  1.559344  0.606640 -1.168991"
      ]
     },
     "execution_count": 112,
     "metadata": {},
     "output_type": "execute_result"
    }
   ],
   "source": [
    "# 上面的语句等价于以下索引方式\n",
    "df2.loc[df2['A']>0]"
   ]
  },
  {
   "cell_type": "markdown",
   "metadata": {},
   "source": [
    "callable 作为 index的参数, 既然callable总是要返回合法的索引方式, 为什么不直接就使用那些合理的索引方法? \n",
    "\n",
    "Callable其实是为了chained selection准备的, 以减少对临时变量的使用. 官方文档的具体说法是\n",
    "\n",
    "> using callable indexers, you can chain data selection operations without using temporary variable\n",
    "\n",
    "例子需要在后面补充"
   ]
  }
 ],
 "metadata": {
  "kernelspec": {
   "display_name": "tensorflow-pyenv",
   "language": "python",
   "name": "tensorflow"
  },
  "language_info": {
   "codemirror_mode": {
    "name": "ipython",
    "version": 3
   },
   "file_extension": ".py",
   "mimetype": "text/x-python",
   "name": "python",
   "nbconvert_exporter": "python",
   "pygments_lexer": "ipython3",
   "version": "3.6.3"
  }
 },
 "nbformat": 4,
 "nbformat_minor": 1
}
